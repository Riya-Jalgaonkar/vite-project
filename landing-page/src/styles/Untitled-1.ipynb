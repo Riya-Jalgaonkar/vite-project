{
 "cells": [
  {
   "cell_type": "code",
   "execution_count": 9,
   "metadata": {},
   "outputs": [
    {
     "name": "stdout",
     "output_type": "stream",
     "text": [
      "Ciphertext (binary): 11000010001101110111101011011001001001110011001101010010011101110111101000010011100101011011000001010101000101000110010010110011011001010110000011011000\n",
      "Decrypted text: ellatieneunahermana\n"
     ]
    }
   ],
   "source": [
    "from itertools import permutations\n",
    "import binascii\n",
    "\n",
    "def text_to_binary(text):\n",
    "    return ''.join(format(ord(c), '08b') for c in text)\n",
    "\n",
    "def binary_to_text(binary):\n",
    "    chars = [binary[i:i+8] for i in range(0, len(binary), 8)]\n",
    "    return ''.join(chr(int(c, 2)) for c in chars)\n",
    "\n",
    "def initial_permutation(text):\n",
    "    return text[::-1]  # Just an example, not actual DES IP\n",
    "\n",
    "def final_permutation(text):\n",
    "    return text[::-1]  # Reverse of initial permutation\n",
    "\n",
    "def generate_subkeys(key):\n",
    "    subkeys = [key[i:] + key[:i] for i in range(16)]  # Simplified shifting\n",
    "    return subkeys\n",
    "\n",
    "def expansion_function(block):\n",
    "    return block + block[:4]  # Simplified expansion\n",
    "\n",
    "def s_box_substitution(block):\n",
    "    return ''.join(str((int(c) + 1) % 2) for c in block)  # Flip bits as example\n",
    "\n",
    "def p_box_permutation(block):\n",
    "    return block[::-1]  # Reverse as a placeholder for actual permutation\n",
    "\n",
    "def feistel_round(left, right, key):\n",
    "    expanded_right = expansion_function(right)\n",
    "    xor_result = ''.join(str(int(a) ^ int(b)) for a, b in zip(expanded_right, key))\n",
    "    substituted = s_box_substitution(xor_result)\n",
    "    permuted = p_box_permutation(substituted)\n",
    "    new_right = ''.join(str(int(a) ^ int(b)) for a, b in zip(left, permuted))\n",
    "    return right, new_right  # Swapping left and right\n",
    "\n",
    "def des_encrypt(plaintext, key):\n",
    "    binary_plaintext = text_to_binary(plaintext)\n",
    "    binary_key = text_to_binary(key)\n",
    "    binary_key = (binary_key * ((len(binary_plaintext) // len(binary_key)) + 1))[:len(binary_plaintext)]  # Repeat key if needed\n",
    "    \n",
    "    binary_plaintext = initial_permutation(binary_plaintext)\n",
    "    left, right = binary_plaintext[:len(binary_plaintext)//2], binary_plaintext[len(binary_plaintext)//2:]\n",
    "    subkeys = generate_subkeys(binary_key)\n",
    "    for i in range(16):\n",
    "        left, right = feistel_round(left, right, subkeys[i])\n",
    "    ciphertext = final_permutation(right + left)  # Swap back before final permutation\n",
    "    return ciphertext\n",
    "\n",
    "def des_decrypt(ciphertext, key):\n",
    "    binary_key = text_to_binary(key)\n",
    "    binary_key = (binary_key * ((len(ciphertext) // len(binary_key)) + 1))[:len(ciphertext)]  # Repeat key if needed\n",
    "    \n",
    "    ciphertext = initial_permutation(ciphertext)  # Reverse final permutation\n",
    "    left, right = ciphertext[:len(ciphertext)//2], ciphertext[len(ciphertext)//2:]\n",
    "    subkeys = generate_subkeys(binary_key)[::-1]  # Reverse subkeys for decryption\n",
    "    for i in range(16):\n",
    "        left, right = feistel_round(left, right, subkeys[i])\n",
    "    decrypted_binary = final_permutation(right + left)  # Swap back before final permutation\n",
    "    return binary_to_text(decrypted_binary)\n",
    "\n",
    "# Example usage\n",
    "plaintext = \"ellatieneunahermana\"  # Example text\n",
    "key = \"medico\"  # Example key\n",
    "ciphertext = des_encrypt(plaintext, key)\n",
    "print(\"Ciphertext (binary):\", ciphertext)\n",
    "\n",
    "decrypted_text = des_decrypt(ciphertext, key)\n",
    "print(\"Decrypted text:\", decrypted_text)\n"
   ]
  }
 ],
 "metadata": {
  "kernelspec": {
   "display_name": "Python 3",
   "language": "python",
   "name": "python3"
  },
  "language_info": {
   "codemirror_mode": {
    "name": "ipython",
    "version": 3
   },
   "file_extension": ".py",
   "mimetype": "text/x-python",
   "name": "python",
   "nbconvert_exporter": "python",
   "pygments_lexer": "ipython3",
   "version": "3.12.3"
  }
 },
 "nbformat": 4,
 "nbformat_minor": 2
}
